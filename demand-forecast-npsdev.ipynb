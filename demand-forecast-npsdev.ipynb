{
 "cells": [
  {
   "cell_type": "code",
   "execution_count": null,
   "metadata": {},
   "outputs": [],
   "source": [
    "import os\n",
    "from google.cloud import bigquery\n",
    "from IPython.display import display\n",
    "import pandas as pd\n",
    "import matplotlib.pyplot as plt\n",
    "import numpy as np\n",
    "# Mean Absolute Error(MAE)用\n",
    "from sklearn.metrics import mean_absolute_error\n",
    "# Root Mean Squared Error(RMSE)用\n",
    "from sklearn.metrics import mean_squared_error\n",
    "\n",
    "# 環境変数に設定\n",
    "cwd = os.getcwd()\n",
    "credentials = 'npsdev-manage-project-b86ba8a617d2.json'\n",
    "key_path = os.path.join(cwd,\"credentials\",credentials)\n",
    "os.environ['GOOGLE_APPLICATION_CREDENTIALS'] = key_path"
   ]
  },
  {
   "cell_type": "code",
   "execution_count": null,
   "metadata": {},
   "outputs": [],
   "source": [
    "project_id = 'npsdev-manage-project'\n",
    "dataset_id = 'share_dataset'\n",
    "table_id = 'junction_hn_nps_file_regist_count_per_minute'\n",
    "\n",
    "client = bigquery.Client(project=project_id)"
   ]
  },
  {
   "cell_type": "code",
   "execution_count": null,
   "metadata": {},
   "outputs": [],
   "source": [
    "def add_leap_year_day(input_df):\n",
    "\n",
    "    day_0229 = 59\n",
    "    dfA = input_df[0:day_0229]\n",
    "    dfB = pd.Series(['Nan'])\n",
    "    dfC = input_df[day_0229:]\n",
    "    #print(dfA)\n",
    "    #print(dfB)\n",
    "    #print(dfC)\n",
    "    df = pd.concat([dfA,dfB,dfC])\n",
    "    df = df.set_axis([i for i in range(366)], axis=\"index\")\n",
    "    df = df.drop(df.columns[[2]], axis=1)\n",
    "\n",
    "    #print(df[50:70])\n",
    "    df = df.fillna(method='ffill')\n",
    "\n",
    "    return df"
   ]
  },
  {
   "cell_type": "code",
   "execution_count": null,
   "metadata": {},
   "outputs": [],
   "source": [
    "def query_bigquery_job(dataset_id,table_id,start_date,end_date,year):\n",
    "    sql = f\"\"\"\n",
    "    SELECT CAST(registration_date AS DATE) day,\n",
    "    SUM(registration_count)\n",
    "    FROM {dataset_id}.{table_id}\n",
    "    WhERE registration_date >= '{start_date}' AND registration_date <= '{end_date}'\n",
    "    GROUP BY day\n",
    "    ORDER BY day\n",
    "    \"\"\"\n",
    "    #print(sql)\n",
    "    df = client.query(sql).to_dataframe()\n",
    "    df = df.rename(columns={'day': f'day-{year}','f0_': f'count-{year}'})\n",
    "    return df"
   ]
  },
  {
   "cell_type": "code",
   "execution_count": null,
   "metadata": {},
   "outputs": [],
   "source": [
    "def plt_show_days (start_date,end_date,leap_year,year):\n",
    "\n",
    "    df = query_bigquery_job(dataset_id,table_id,start_date,end_date,year)\n",
    "\n",
    "    if not leap_year:\n",
    "        df = add_leap_year_day(df)\n",
    " \n",
    "    #print(df[50:70])\n",
    "    df = df.fillna(method='ffill')\n",
    "\n",
    "    #display(sql)\n",
    "    plt.ylabel(\"printVol\")\n",
    "    plt.plot(df[f'day-{year}'], df[f'count-{year}'], label=year)\n",
    "    plt.legend(loc = 'upper left')\n",
    "    plt.show()\n",
    "\n",
    "    return df\n"
   ]
  },
  {
   "cell_type": "code",
   "execution_count": null,
   "metadata": {},
   "outputs": [],
   "source": [
    "def plot_show_marge(sr_xplot,sr_yplot_1,labdel_1,sr_yplot_2,labdel_2):\n",
    "\n",
    "    #可視化\n",
    "    plt.plot(sr_xplot, sr_yplot_1, label=labdel_1, color =\"red\")\n",
    "    plt.plot(sr_xplot, sr_yplot_2, label=labdel_2, color =\"blue\")\n",
    "    plt.ylabel(\"daily_demand\")\n",
    "    plt.xlabel(\"date\")\n",
    "    plt.legend(loc = 'upper right')\n",
    "    plt.show()"
   ]
  },
  {
   "cell_type": "code",
   "execution_count": null,
   "metadata": {},
   "outputs": [],
   "source": [
    "#移動平均法\n",
    "def calc_rooling_mean(input_sr,window_size = 3):\n",
    "    rm_sr = input_sr.rolling(window = window_size).mean()\n",
    "    rm_sr = rm_sr.fillna(rm_sr.median())\n",
    "    return rm_sr"
   ]
  },
  {
   "cell_type": "code",
   "execution_count": null,
   "metadata": {},
   "outputs": [],
   "source": [
    "##指数平滑法（EWM：Exponentially weighted method）\n",
    "def calc_ewm(input_sr,alpha = 0.5):\n",
    "    ewm_sr = input_sr.ewm(alpha=alpha).mean()\n",
    "    ewm_sr = ewm_sr.fillna(ewm_sr.median())\n",
    "    return ewm_sr"
   ]
  },
  {
   "attachments": {},
   "cell_type": "markdown",
   "metadata": {},
   "source": [
    "日時集計"
   ]
  },
  {
   "cell_type": "code",
   "execution_count": null,
   "metadata": {},
   "outputs": [],
   "source": [
    "#df_2018 = plt_show_days('2018-01-01','2018-12-31',False,\"2018\")\n",
    "df_2019 = plt_show_days('2019-01-01','2019-12-31',False,\"2019\")\n",
    "df_2020 = plt_show_days('2020-01-01','2020-12-31',True,\"2020\")\n",
    "#df_2021 = plt_show_days('2021-01-01','2021-12-31',False,\"2021\")\n",
    "\n",
    "df_concat = pd.concat([df_2019,df_2020],axis=1)\n",
    "#df_concat\n"
   ]
  },
  {
   "cell_type": "code",
   "execution_count": null,
   "metadata": {},
   "outputs": [],
   "source": [
    "def calc_accuracy(true_sr , pred_sr):\n",
    "\n",
    "    #二乗平方根誤差（RMSE：Root Mean Square Error）\n",
    "    rmse = np.sqrt(mean_squared_error(true_sr, pred_sr))\n",
    "    print('RMSE : {:.3f}'.format(rmse))\n",
    "\n",
    "    #平均絶対誤差（MAE：Mean Absolute Error）\n",
    "    mae = mean_absolute_error(true_sr, pred_sr)\n",
    "    print('MAE : {:.3f}'.format(mae))\n",
    "\n",
    "    return {\n",
    "        \"RMSE\" : rmse,\n",
    "        \"MAE\" : mae\n",
    "    }\n"
   ]
  },
  {
   "cell_type": "code",
   "execution_count": null,
   "metadata": {},
   "outputs": [],
   "source": [
    "rm_2019 = calc_rooling_mean(df_concat[\"count-2019\"])\n",
    "ewm_2019 = calc_ewm(df_concat[\"count-2019\"])\n",
    "calc_accuracy(df_concat[\"count-2020\"],rm_2019)\n",
    "calc_accuracy(df_concat[\"count-2020\"],ewm_2019)\n",
    "\n",
    "plot_show_marge(df_concat[\"day-2020\"],df_concat[\"count-2020\"],\"2020-true\",ewm_2019,\"2020-pred\")\n"
   ]
  },
  {
   "cell_type": "code",
   "execution_count": null,
   "metadata": {},
   "outputs": [],
   "source": [
    "#NeuralProphetをインポート\n",
    "from neuralprophet import NeuralProphet\n",
    "#データセットの準備\n",
    "df1 = pd.read_csv(\"train.csv\")\n",
    "df1 = df1.query('store == \"1\" & item == \"1\"')\n",
    "df1 = df1.drop([\"store\", \"item\"], axis=1)\n",
    "df1 = df1.rename(columns = {\"date\": \"ds\", \"sales\": \"y\"})\n",
    "#データセットの分割\n",
    "train = df1[:-365]#2013-2016年の販売実績\n",
    "test = df1[-365:]#2017年の販売実績\n",
    "#機械学習モデルのインストタンス作成\n",
    "m = NeuralProphet(seasonality_mode='multiplicative')\n",
    "#validationの設定(3:1)&モデルのトレーニング\n",
    "metrics = m.fit(train,freq=\"D\")\n",
    "#作ったモデルで２０１７年のSalesを予測(trainデータの先３６５日分を予測)\n",
    "future = m.make_future_dataframe(train, periods=365)\n",
    "forecast = m.predict(future)\n",
    "#予測結果をtestのデータフレームに追加\n",
    "test[\"pred\"] = forecast[\"yhat1\"].to_list()\n",
    "#MAEで精度を確認\n",
    "from sklearn.metrics import mean_absolute_error\n",
    "print('MAE(NeuralProphet):')\n",
    "print(mean_absolute_error(test['y'], test['pred']))#3.9889207134508107\n",
    "#可視化 \n",
    "test.plot(title='Forecast evaluation',ylim=[0,50])"
   ]
  },
  {
   "attachments": {},
   "cell_type": "markdown",
   "metadata": {},
   "source": [
    "月次集計"
   ]
  },
  {
   "cell_type": "code",
   "execution_count": null,
   "metadata": {},
   "outputs": [],
   "source": [
    "sql = f\"\"\"\n",
    "SELECT DATE_TRUNC(CAST(registration_date AS DATE), MONTH) AS month,\n",
    "    COUNT(registration_date)\n",
    "FROM {dataset_id}.{table_id}\n",
    "WhERE registration_date >='2020-01-01' AND registration_date <='2020-12-31'\n",
    "GROUP BY month\n",
    "ORDER BY month\n",
    "\"\"\"\n",
    "\n",
    "df = client.query(sql).to_dataframe()\n",
    "display(df)\n"
   ]
  },
  {
   "cell_type": "code",
   "execution_count": null,
   "metadata": {},
   "outputs": [],
   "source": []
  }
 ],
 "metadata": {
  "kernelspec": {
   "display_name": "demand-fc",
   "language": "python",
   "name": "python3"
  },
  "language_info": {
   "codemirror_mode": {
    "name": "ipython",
    "version": 3
   },
   "file_extension": ".py",
   "mimetype": "text/x-python",
   "name": "python",
   "nbconvert_exporter": "python",
   "pygments_lexer": "ipython3",
   "version": "3.10.5"
  },
  "orig_nbformat": 4,
  "vscode": {
   "interpreter": {
    "hash": "f17f7fedd460fd8ad39f9c1c5d6598e64e56d710779444125a16d66ab394306c"
   }
  }
 },
 "nbformat": 4,
 "nbformat_minor": 2
}
